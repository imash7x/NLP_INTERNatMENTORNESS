{
  "nbformat": 4,
  "nbformat_minor": 0,
  "metadata": {
    "colab": {
      "provenance": [],
      "gpuType": "T4"
    },
    "kernelspec": {
      "name": "python3",
      "display_name": "Python 3"
    },
    "language_info": {
      "name": "python"
    },
    "accelerator": "GPU"
  },
  "cells": [
    {
      "cell_type": "code",
      "execution_count": 5,
      "metadata": {
        "id": "BGed_uNeTfIw"
      },
      "outputs": [],
      "source": [
        "import pandas as pd\n",
        "import numpy as np\n",
        "import matplotlib.pyplot as plt\n",
        "import seaborn as sns\n",
        "from sklearn.model_selection import train_test_split\n",
        "from sklearn.preprocessing import LabelEncoder\n",
        "from keras.models import Model\n",
        "from keras.layers import LSTM, Activation, Dense, Dropout, Input, Embedding\n",
        "from keras.optimizers import RMSprop\n",
        "from keras.preprocessing.text import Tokenizer\n",
        "from keras.preprocessing import sequence\n",
        "from keras.utils import to_categorical\n",
        "from keras.callbacks import EarlyStopping\n",
        "%matplotlib inline\n",
        "%matplotlib inline"
      ]
    },
    {
      "cell_type": "code",
      "source": [
        "from google.colab import drive\n",
        "drive.mount('/content/drive')"
      ],
      "metadata": {
        "colab": {
          "base_uri": "https://localhost:8080/"
        },
        "id": "GWfCdlAuU0X8",
        "outputId": "d541c354-c626-4b1a-d342-fc2beacc9192"
      },
      "execution_count": 6,
      "outputs": [
        {
          "output_type": "stream",
          "name": "stdout",
          "text": [
            "Drive already mounted at /content/drive; to attempt to forcibly remount, call drive.mount(\"/content/drive\", force_remount=True).\n"
          ]
        }
      ]
    },
    {
      "cell_type": "code",
      "source": [
        "file_path='/content/drive/MyDrive/pls_isl_conflict_comments.xlsx'\n",
        "data = pd.read_excel(file_path, na_filter=False, names=['comment_id', 'score', 'self_text', 'subreddit', 'created_time'])\n",
        "data = data[['comment_id', 'score', 'self_text', 'subreddit', 'created_time']]\n",
        "data.head(10)"
      ],
      "metadata": {
        "colab": {
          "base_uri": "https://localhost:8080/",
          "height": 363
        },
        "id": "2gJ3wpRiU9hV",
        "outputId": "f3efd098-1dd7-4048-ec7f-f3e8ac02a450"
      },
      "execution_count": 4,
      "outputs": [
        {
          "output_type": "execute_result",
          "data": {
            "text/plain": [
              "  comment_id score                                          self_text  \\\n",
              "0    k5480sx     1  Exactly! I can remember the humanitarian aid s...   \n",
              "1    k547q14     1  *We are the only part of the World that has Fr...   \n",
              "2    k547elf     1  I don_x0019_t make Israeli strategy, nor am I ...   \n",
              "3    k54742r     1  These people didn't vote Hamas in or something...   \n",
              "4    k5473zi     1  We don't care what you do. We just want to liv...   \n",
              "5    k546z8v     1  Hamas exists because of the Israeli control of...   \n",
              "6    k546wh4     1  I'll forward it when I have time to find it.  ...   \n",
              "7    k546uqt     1  You can inverte the flags and its gonna still ...   \n",
              "8    k546upe     1  I wish the media would talk more about the par...   \n",
              "9    k546sze     1  They are blinded by social media fake news. Th...   \n",
              "\n",
              "         subreddit         created_time  \n",
              "0        worldnews  2023-10-16 19:39:00  \n",
              "1        Palestine  2023-10-16 19:36:00  \n",
              "2        worldnews  2023-10-16 19:34:00  \n",
              "3        worldnews  2023-10-16 19:32:00  \n",
              "4        worldnews  2023-10-16 19:32:00  \n",
              "5  IsraelPalestine  2023-10-16 19:31:00  \n",
              "6  IsraelPalestine  2023-10-16 19:31:00  \n",
              "7        Palestine  2023-10-16 19:30:00  \n",
              "8        worldnews  2023-10-16 19:30:00  \n",
              "9  IsraelPalestine  2023-10-16 19:30:00  "
            ],
            "text/html": [
              "\n",
              "  <div id=\"df-2c5fdb87-c419-412e-904a-80ec7d26b3bb\" class=\"colab-df-container\">\n",
              "    <div>\n",
              "<style scoped>\n",
              "    .dataframe tbody tr th:only-of-type {\n",
              "        vertical-align: middle;\n",
              "    }\n",
              "\n",
              "    .dataframe tbody tr th {\n",
              "        vertical-align: top;\n",
              "    }\n",
              "\n",
              "    .dataframe thead th {\n",
              "        text-align: right;\n",
              "    }\n",
              "</style>\n",
              "<table border=\"1\" class=\"dataframe\">\n",
              "  <thead>\n",
              "    <tr style=\"text-align: right;\">\n",
              "      <th></th>\n",
              "      <th>comment_id</th>\n",
              "      <th>score</th>\n",
              "      <th>self_text</th>\n",
              "      <th>subreddit</th>\n",
              "      <th>created_time</th>\n",
              "    </tr>\n",
              "  </thead>\n",
              "  <tbody>\n",
              "    <tr>\n",
              "      <th>0</th>\n",
              "      <td>k5480sx</td>\n",
              "      <td>1</td>\n",
              "      <td>Exactly! I can remember the humanitarian aid s...</td>\n",
              "      <td>worldnews</td>\n",
              "      <td>2023-10-16 19:39:00</td>\n",
              "    </tr>\n",
              "    <tr>\n",
              "      <th>1</th>\n",
              "      <td>k547q14</td>\n",
              "      <td>1</td>\n",
              "      <td>*We are the only part of the World that has Fr...</td>\n",
              "      <td>Palestine</td>\n",
              "      <td>2023-10-16 19:36:00</td>\n",
              "    </tr>\n",
              "    <tr>\n",
              "      <th>2</th>\n",
              "      <td>k547elf</td>\n",
              "      <td>1</td>\n",
              "      <td>I don_x0019_t make Israeli strategy, nor am I ...</td>\n",
              "      <td>worldnews</td>\n",
              "      <td>2023-10-16 19:34:00</td>\n",
              "    </tr>\n",
              "    <tr>\n",
              "      <th>3</th>\n",
              "      <td>k54742r</td>\n",
              "      <td>1</td>\n",
              "      <td>These people didn't vote Hamas in or something...</td>\n",
              "      <td>worldnews</td>\n",
              "      <td>2023-10-16 19:32:00</td>\n",
              "    </tr>\n",
              "    <tr>\n",
              "      <th>4</th>\n",
              "      <td>k5473zi</td>\n",
              "      <td>1</td>\n",
              "      <td>We don't care what you do. We just want to liv...</td>\n",
              "      <td>worldnews</td>\n",
              "      <td>2023-10-16 19:32:00</td>\n",
              "    </tr>\n",
              "    <tr>\n",
              "      <th>5</th>\n",
              "      <td>k546z8v</td>\n",
              "      <td>1</td>\n",
              "      <td>Hamas exists because of the Israeli control of...</td>\n",
              "      <td>IsraelPalestine</td>\n",
              "      <td>2023-10-16 19:31:00</td>\n",
              "    </tr>\n",
              "    <tr>\n",
              "      <th>6</th>\n",
              "      <td>k546wh4</td>\n",
              "      <td>1</td>\n",
              "      <td>I'll forward it when I have time to find it.  ...</td>\n",
              "      <td>IsraelPalestine</td>\n",
              "      <td>2023-10-16 19:31:00</td>\n",
              "    </tr>\n",
              "    <tr>\n",
              "      <th>7</th>\n",
              "      <td>k546uqt</td>\n",
              "      <td>1</td>\n",
              "      <td>You can inverte the flags and its gonna still ...</td>\n",
              "      <td>Palestine</td>\n",
              "      <td>2023-10-16 19:30:00</td>\n",
              "    </tr>\n",
              "    <tr>\n",
              "      <th>8</th>\n",
              "      <td>k546upe</td>\n",
              "      <td>1</td>\n",
              "      <td>I wish the media would talk more about the par...</td>\n",
              "      <td>worldnews</td>\n",
              "      <td>2023-10-16 19:30:00</td>\n",
              "    </tr>\n",
              "    <tr>\n",
              "      <th>9</th>\n",
              "      <td>k546sze</td>\n",
              "      <td>1</td>\n",
              "      <td>They are blinded by social media fake news. Th...</td>\n",
              "      <td>IsraelPalestine</td>\n",
              "      <td>2023-10-16 19:30:00</td>\n",
              "    </tr>\n",
              "  </tbody>\n",
              "</table>\n",
              "</div>\n",
              "    <div class=\"colab-df-buttons\">\n",
              "\n",
              "  <div class=\"colab-df-container\">\n",
              "    <button class=\"colab-df-convert\" onclick=\"convertToInteractive('df-2c5fdb87-c419-412e-904a-80ec7d26b3bb')\"\n",
              "            title=\"Convert this dataframe to an interactive table.\"\n",
              "            style=\"display:none;\">\n",
              "\n",
              "  <svg xmlns=\"http://www.w3.org/2000/svg\" height=\"24px\" viewBox=\"0 -960 960 960\">\n",
              "    <path d=\"M120-120v-720h720v720H120Zm60-500h600v-160H180v160Zm220 220h160v-160H400v160Zm0 220h160v-160H400v160ZM180-400h160v-160H180v160Zm440 0h160v-160H620v160ZM180-180h160v-160H180v160Zm440 0h160v-160H620v160Z\"/>\n",
              "  </svg>\n",
              "    </button>\n",
              "\n",
              "  <style>\n",
              "    .colab-df-container {\n",
              "      display:flex;\n",
              "      gap: 12px;\n",
              "    }\n",
              "\n",
              "    .colab-df-convert {\n",
              "      background-color: #E8F0FE;\n",
              "      border: none;\n",
              "      border-radius: 50%;\n",
              "      cursor: pointer;\n",
              "      display: none;\n",
              "      fill: #1967D2;\n",
              "      height: 32px;\n",
              "      padding: 0 0 0 0;\n",
              "      width: 32px;\n",
              "    }\n",
              "\n",
              "    .colab-df-convert:hover {\n",
              "      background-color: #E2EBFA;\n",
              "      box-shadow: 0px 1px 2px rgba(60, 64, 67, 0.3), 0px 1px 3px 1px rgba(60, 64, 67, 0.15);\n",
              "      fill: #174EA6;\n",
              "    }\n",
              "\n",
              "    .colab-df-buttons div {\n",
              "      margin-bottom: 4px;\n",
              "    }\n",
              "\n",
              "    [theme=dark] .colab-df-convert {\n",
              "      background-color: #3B4455;\n",
              "      fill: #D2E3FC;\n",
              "    }\n",
              "\n",
              "    [theme=dark] .colab-df-convert:hover {\n",
              "      background-color: #434B5C;\n",
              "      box-shadow: 0px 1px 3px 1px rgba(0, 0, 0, 0.15);\n",
              "      filter: drop-shadow(0px 1px 2px rgba(0, 0, 0, 0.3));\n",
              "      fill: #FFFFFF;\n",
              "    }\n",
              "  </style>\n",
              "\n",
              "    <script>\n",
              "      const buttonEl =\n",
              "        document.querySelector('#df-2c5fdb87-c419-412e-904a-80ec7d26b3bb button.colab-df-convert');\n",
              "      buttonEl.style.display =\n",
              "        google.colab.kernel.accessAllowed ? 'block' : 'none';\n",
              "\n",
              "      async function convertToInteractive(key) {\n",
              "        const element = document.querySelector('#df-2c5fdb87-c419-412e-904a-80ec7d26b3bb');\n",
              "        const dataTable =\n",
              "          await google.colab.kernel.invokeFunction('convertToInteractive',\n",
              "                                                    [key], {});\n",
              "        if (!dataTable) return;\n",
              "\n",
              "        const docLinkHtml = 'Like what you see? Visit the ' +\n",
              "          '<a target=\"_blank\" href=https://colab.research.google.com/notebooks/data_table.ipynb>data table notebook</a>'\n",
              "          + ' to learn more about interactive tables.';\n",
              "        element.innerHTML = '';\n",
              "        dataTable['output_type'] = 'display_data';\n",
              "        await google.colab.output.renderOutput(dataTable, element);\n",
              "        const docLink = document.createElement('div');\n",
              "        docLink.innerHTML = docLinkHtml;\n",
              "        element.appendChild(docLink);\n",
              "      }\n",
              "    </script>\n",
              "  </div>\n",
              "\n",
              "\n",
              "<div id=\"df-454c45dc-c1c0-4d9e-9e79-5eee9457a4cf\">\n",
              "  <button class=\"colab-df-quickchart\" onclick=\"quickchart('df-454c45dc-c1c0-4d9e-9e79-5eee9457a4cf')\"\n",
              "            title=\"Suggest charts\"\n",
              "            style=\"display:none;\">\n",
              "\n",
              "<svg xmlns=\"http://www.w3.org/2000/svg\" height=\"24px\"viewBox=\"0 0 24 24\"\n",
              "     width=\"24px\">\n",
              "    <g>\n",
              "        <path d=\"M19 3H5c-1.1 0-2 .9-2 2v14c0 1.1.9 2 2 2h14c1.1 0 2-.9 2-2V5c0-1.1-.9-2-2-2zM9 17H7v-7h2v7zm4 0h-2V7h2v10zm4 0h-2v-4h2v4z\"/>\n",
              "    </g>\n",
              "</svg>\n",
              "  </button>\n",
              "\n",
              "<style>\n",
              "  .colab-df-quickchart {\n",
              "      --bg-color: #E8F0FE;\n",
              "      --fill-color: #1967D2;\n",
              "      --hover-bg-color: #E2EBFA;\n",
              "      --hover-fill-color: #174EA6;\n",
              "      --disabled-fill-color: #AAA;\n",
              "      --disabled-bg-color: #DDD;\n",
              "  }\n",
              "\n",
              "  [theme=dark] .colab-df-quickchart {\n",
              "      --bg-color: #3B4455;\n",
              "      --fill-color: #D2E3FC;\n",
              "      --hover-bg-color: #434B5C;\n",
              "      --hover-fill-color: #FFFFFF;\n",
              "      --disabled-bg-color: #3B4455;\n",
              "      --disabled-fill-color: #666;\n",
              "  }\n",
              "\n",
              "  .colab-df-quickchart {\n",
              "    background-color: var(--bg-color);\n",
              "    border: none;\n",
              "    border-radius: 50%;\n",
              "    cursor: pointer;\n",
              "    display: none;\n",
              "    fill: var(--fill-color);\n",
              "    height: 32px;\n",
              "    padding: 0;\n",
              "    width: 32px;\n",
              "  }\n",
              "\n",
              "  .colab-df-quickchart:hover {\n",
              "    background-color: var(--hover-bg-color);\n",
              "    box-shadow: 0 1px 2px rgba(60, 64, 67, 0.3), 0 1px 3px 1px rgba(60, 64, 67, 0.15);\n",
              "    fill: var(--button-hover-fill-color);\n",
              "  }\n",
              "\n",
              "  .colab-df-quickchart-complete:disabled,\n",
              "  .colab-df-quickchart-complete:disabled:hover {\n",
              "    background-color: var(--disabled-bg-color);\n",
              "    fill: var(--disabled-fill-color);\n",
              "    box-shadow: none;\n",
              "  }\n",
              "\n",
              "  .colab-df-spinner {\n",
              "    border: 2px solid var(--fill-color);\n",
              "    border-color: transparent;\n",
              "    border-bottom-color: var(--fill-color);\n",
              "    animation:\n",
              "      spin 1s steps(1) infinite;\n",
              "  }\n",
              "\n",
              "  @keyframes spin {\n",
              "    0% {\n",
              "      border-color: transparent;\n",
              "      border-bottom-color: var(--fill-color);\n",
              "      border-left-color: var(--fill-color);\n",
              "    }\n",
              "    20% {\n",
              "      border-color: transparent;\n",
              "      border-left-color: var(--fill-color);\n",
              "      border-top-color: var(--fill-color);\n",
              "    }\n",
              "    30% {\n",
              "      border-color: transparent;\n",
              "      border-left-color: var(--fill-color);\n",
              "      border-top-color: var(--fill-color);\n",
              "      border-right-color: var(--fill-color);\n",
              "    }\n",
              "    40% {\n",
              "      border-color: transparent;\n",
              "      border-right-color: var(--fill-color);\n",
              "      border-top-color: var(--fill-color);\n",
              "    }\n",
              "    60% {\n",
              "      border-color: transparent;\n",
              "      border-right-color: var(--fill-color);\n",
              "    }\n",
              "    80% {\n",
              "      border-color: transparent;\n",
              "      border-right-color: var(--fill-color);\n",
              "      border-bottom-color: var(--fill-color);\n",
              "    }\n",
              "    90% {\n",
              "      border-color: transparent;\n",
              "      border-bottom-color: var(--fill-color);\n",
              "    }\n",
              "  }\n",
              "</style>\n",
              "\n",
              "  <script>\n",
              "    async function quickchart(key) {\n",
              "      const quickchartButtonEl =\n",
              "        document.querySelector('#' + key + ' button');\n",
              "      quickchartButtonEl.disabled = true;  // To prevent multiple clicks.\n",
              "      quickchartButtonEl.classList.add('colab-df-spinner');\n",
              "      try {\n",
              "        const charts = await google.colab.kernel.invokeFunction(\n",
              "            'suggestCharts', [key], {});\n",
              "      } catch (error) {\n",
              "        console.error('Error during call to suggestCharts:', error);\n",
              "      }\n",
              "      quickchartButtonEl.classList.remove('colab-df-spinner');\n",
              "      quickchartButtonEl.classList.add('colab-df-quickchart-complete');\n",
              "    }\n",
              "    (() => {\n",
              "      let quickchartButtonEl =\n",
              "        document.querySelector('#df-454c45dc-c1c0-4d9e-9e79-5eee9457a4cf button');\n",
              "      quickchartButtonEl.style.display =\n",
              "        google.colab.kernel.accessAllowed ? 'block' : 'none';\n",
              "    })();\n",
              "  </script>\n",
              "</div>\n",
              "    </div>\n",
              "  </div>\n"
            ]
          },
          "metadata": {},
          "execution_count": 4
        }
      ]
    },
    {
      "cell_type": "code",
      "source": [
        "print(\"Dataset shape:\", data.shape)"
      ],
      "metadata": {
        "colab": {
          "base_uri": "https://localhost:8080/"
        },
        "id": "SbOms_xn1G3d",
        "outputId": "e100e2e9-dfb0-4c8e-f0c1-fb09d345535f"
      },
      "execution_count": 7,
      "outputs": [
        {
          "output_type": "stream",
          "name": "stdout",
          "text": [
            "Dataset shape: (190396, 5)\n"
          ]
        }
      ]
    },
    {
      "cell_type": "code",
      "source": [
        "df = pd.DataFrame(data, columns=[\"comment_id\", \"score\", \"self_text\", \"subreddit\", \"created_time\"])\n",
        "\n",
        "df.info()"
      ],
      "metadata": {
        "colab": {
          "base_uri": "https://localhost:8080/"
        },
        "id": "Obbyam9a4Bnm",
        "outputId": "d9dc7a8a-d1e0-4dd4-96ab-a797f54f5d43"
      },
      "execution_count": 8,
      "outputs": [
        {
          "output_type": "stream",
          "name": "stdout",
          "text": [
            "<class 'pandas.core.frame.DataFrame'>\n",
            "RangeIndex: 190396 entries, 0 to 190395\n",
            "Data columns (total 5 columns):\n",
            " #   Column        Non-Null Count   Dtype \n",
            "---  ------        --------------   ----- \n",
            " 0   comment_id    190384 non-null  object\n",
            " 1   score         190396 non-null  object\n",
            " 2   self_text     190198 non-null  object\n",
            " 3   subreddit     190396 non-null  object\n",
            " 4   created_time  190396 non-null  object\n",
            "dtypes: object(5)\n",
            "memory usage: 7.3+ MB\n"
          ]
        }
      ]
    },
    {
      "cell_type": "code",
      "source": [
        "print(df['self_text'].isnull().sum())"
      ],
      "metadata": {
        "colab": {
          "base_uri": "https://localhost:8080/"
        },
        "id": "O86qv2kqBquC",
        "outputId": "494d3154-81ab-4de5-d9bd-8e2fdd957c92"
      },
      "execution_count": 9,
      "outputs": [
        {
          "output_type": "stream",
          "name": "stdout",
          "text": [
            "198\n"
          ]
        }
      ]
    },
    {
      "cell_type": "code",
      "source": [
        "columns_to_drop = ['comment_id', 'score', 'subreddit', 'created_time']\n",
        "data['self_text'] = data['self_text'].astype('str')\n",
        "df.drop(columns=columns_to_drop, inplace=True)\n",
        "df.info()"
      ],
      "metadata": {
        "colab": {
          "base_uri": "https://localhost:8080/"
        },
        "id": "0416cUMVRzEd",
        "outputId": "7be82abb-ac49-45ed-8c92-29e0b09e2092"
      },
      "execution_count": 10,
      "outputs": [
        {
          "output_type": "stream",
          "name": "stdout",
          "text": [
            "<class 'pandas.core.frame.DataFrame'>\n",
            "RangeIndex: 190396 entries, 0 to 190395\n",
            "Data columns (total 1 columns):\n",
            " #   Column     Non-Null Count   Dtype \n",
            "---  ------     --------------   ----- \n",
            " 0   self_text  190198 non-null  object\n",
            "dtypes: object(1)\n",
            "memory usage: 1.5+ MB\n"
          ]
        }
      ]
    },
    {
      "cell_type": "code",
      "source": [
        "# Install the required libraries\n",
        "!pip install nltk\n",
        "!pip install vaderSentiment"
      ],
      "metadata": {
        "colab": {
          "base_uri": "https://localhost:8080/"
        },
        "id": "DrhFNFEUvYU3",
        "outputId": "33db7ed5-1cef-42f6-a9df-66e8fcc13872"
      },
      "execution_count": 11,
      "outputs": [
        {
          "output_type": "stream",
          "name": "stdout",
          "text": [
            "Requirement already satisfied: nltk in /usr/local/lib/python3.10/dist-packages (3.8.1)\n",
            "Requirement already satisfied: click in /usr/local/lib/python3.10/dist-packages (from nltk) (8.1.7)\n",
            "Requirement already satisfied: joblib in /usr/local/lib/python3.10/dist-packages (from nltk) (1.3.2)\n",
            "Requirement already satisfied: regex>=2021.8.3 in /usr/local/lib/python3.10/dist-packages (from nltk) (2023.6.3)\n",
            "Requirement already satisfied: tqdm in /usr/local/lib/python3.10/dist-packages (from nltk) (4.66.1)\n",
            "Collecting vaderSentiment\n",
            "  Downloading vaderSentiment-3.3.2-py2.py3-none-any.whl (125 kB)\n",
            "\u001b[2K     \u001b[90m━━━━━━━━━━━━━━━━━━━━━━━━━━━━━━━━━━━━━━━━\u001b[0m \u001b[32m126.0/126.0 kB\u001b[0m \u001b[31m3.3 MB/s\u001b[0m eta \u001b[36m0:00:00\u001b[0m\n",
            "\u001b[?25hRequirement already satisfied: requests in /usr/local/lib/python3.10/dist-packages (from vaderSentiment) (2.31.0)\n",
            "Requirement already satisfied: charset-normalizer<4,>=2 in /usr/local/lib/python3.10/dist-packages (from requests->vaderSentiment) (3.3.2)\n",
            "Requirement already satisfied: idna<4,>=2.5 in /usr/local/lib/python3.10/dist-packages (from requests->vaderSentiment) (3.4)\n",
            "Requirement already satisfied: urllib3<3,>=1.21.1 in /usr/local/lib/python3.10/dist-packages (from requests->vaderSentiment) (2.0.7)\n",
            "Requirement already satisfied: certifi>=2017.4.17 in /usr/local/lib/python3.10/dist-packages (from requests->vaderSentiment) (2023.7.22)\n",
            "Installing collected packages: vaderSentiment\n",
            "Successfully installed vaderSentiment-3.3.2\n"
          ]
        }
      ]
    },
    {
      "cell_type": "code",
      "source": [
        "from vaderSentiment.vaderSentiment import SentimentIntensityAnalyzer\n",
        "\n",
        "analyzer = SentimentIntensityAnalyzer()\n",
        "\n",
        "# Set the threshold for binary classification\n",
        "threshold = 0.1\n",
        "\n",
        "# Function to get the binary polarity (1 or 0) for a given text\n",
        "def get_binary_polarity(text):\n",
        "    if isinstance(text, str):\n",
        "        compound_score = analyzer.polarity_scores(text)['compound']\n",
        "        return 1 if compound_score >= threshold else 0\n",
        "    else:\n",
        "        return 0  # or any other default value for non-string values\n",
        "\n",
        "df['polarity'] = df['self_text'].apply(get_binary_polarity)\n",
        "\n",
        "print(df.head(15))\n",
        "df.info()\n",
        "print(df['polarity'].unique())\n"
      ],
      "metadata": {
        "colab": {
          "base_uri": "https://localhost:8080/"
        },
        "id": "Jp-vwml1YMJt",
        "outputId": "f410cc99-6151-4544-c51d-2941fe9b96c3"
      },
      "execution_count": 12,
      "outputs": [
        {
          "output_type": "stream",
          "name": "stdout",
          "text": [
            "                                            self_text  polarity\n",
            "0   Exactly! I can remember the humanitarian aid s...         1\n",
            "1   *We are the only part of the World that has Fr...         1\n",
            "2   I don_x0019_t make Israeli strategy, nor am I ...         1\n",
            "3   These people didn't vote Hamas in or something...         0\n",
            "4   We don't care what you do. We just want to liv...         0\n",
            "5   Hamas exists because of the Israeli control of...         1\n",
            "6   I'll forward it when I have time to find it.  ...         1\n",
            "7   You can inverte the flags and its gonna still ...         0\n",
            "8   I wish the media would talk more about the par...         0\n",
            "9   They are blinded by social media fake news. Th...         0\n",
            "10  It_x0019_s what you meant.   Why do people wan...         0\n",
            "11  Yeah, he already knew that and does not suppor...         0\n",
            "12  It's the middle of a funking war do you unders...         0\n",
            "13  No.  Hamas put their base of operations intent...         0\n",
            "14  It's messed up people can't comprehend what yo...         0\n",
            "<class 'pandas.core.frame.DataFrame'>\n",
            "RangeIndex: 190396 entries, 0 to 190395\n",
            "Data columns (total 2 columns):\n",
            " #   Column     Non-Null Count   Dtype \n",
            "---  ------     --------------   ----- \n",
            " 0   self_text  190198 non-null  object\n",
            " 1   polarity   190396 non-null  int64 \n",
            "dtypes: int64(1), object(1)\n",
            "memory usage: 2.9+ MB\n",
            "[1 0]\n"
          ]
        }
      ]
    },
    {
      "cell_type": "code",
      "source": [
        "(df.isnull().sum() / len(data))*100\n",
        "\n",
        "data['self_text'] = data['self_text'].astype('str')"
      ],
      "metadata": {
        "id": "mNF1g1IqdCRk"
      },
      "execution_count": 13,
      "outputs": []
    },
    {
      "cell_type": "code",
      "source": [
        "import nltk\n",
        "from nltk.stem import WordNetLemmatizer\n",
        "from nltk.corpus import stopwords\n",
        "from nltk.tokenize import word_tokenize\n",
        "\n",
        "nltk.download('stopwords')\n",
        "stopword = set(stopwords.words('english'))\n",
        "print(stopword)"
      ],
      "metadata": {
        "colab": {
          "base_uri": "https://localhost:8080/"
        },
        "id": "8lHSYmfWcuVR",
        "outputId": "fd74f921-5fea-43ff-b385-ce1e99d26e0a"
      },
      "execution_count": 14,
      "outputs": [
        {
          "output_type": "stream",
          "name": "stdout",
          "text": [
            "{'each', 'under', 'on', \"shouldn't\", 'where', 'ours', 'once', 'she', 'it', 'be', 'don', \"shan't\", 'had', 'doing', 'yourself', 'same', 'wasn', 'up', 'very', 's', 'been', 'yours', 'for', 'our', 'were', 'in', 'mustn', 'needn', 'not', 'ain', 'that', \"hadn't\", 'should', 'here', \"won't\", 'over', 'wouldn', 'both', 'or', 'nor', \"couldn't\", \"doesn't\", \"isn't\", 'a', 'before', 'at', 'itself', 'above', 'than', 'these', 'to', 'shouldn', 'this', 'being', \"you've\", 'its', \"mustn't\", 'am', \"weren't\", 'whom', 'because', 'of', 'when', 'is', 'haven', 'ourselves', \"needn't\", 'hers', 'are', 'who', 'does', 've', 'the', 'have', \"it's\", 't', 'and', 'doesn', 'has', 'him', 'do', 'but', 'after', 'd', 'yourselves', 'off', 'theirs', 'he', 'such', \"should've\", 'their', 'can', 'was', 'hasn', 'an', 'those', 'o', 'few', 'just', 'until', 'y', 'most', 'i', 'herself', 'won', 'my', 'why', 'shan', 'did', 'weren', \"that'll\", 'so', 'his', 'm', 'all', 'your', 'having', 'hadn', 'other', 'from', 'no', 'about', \"wouldn't\", 'into', 'some', 'by', 'will', 'too', 'more', 'with', 'didn', 'below', 'we', 'while', \"haven't\", 'you', 'they', 'out', \"don't\", 'ma', 'any', 'myself', 'own', \"she's\", 'himself', 'me', 'her', 'if', 'there', 'only', 'couldn', \"aren't\", 'through', 'against', 'now', 'll', 'how', 'then', 'aren', 'mightn', \"didn't\", \"hasn't\", \"you'll\", \"mightn't\", 'which', 'themselves', 'between', 're', \"wasn't\", 'isn', 'as', 'them', 'during', 'what', 'further', \"you'd\", 'again', 'down', \"you're\"}\n"
          ]
        },
        {
          "output_type": "stream",
          "name": "stderr",
          "text": [
            "[nltk_data] Downloading package stopwords to /root/nltk_data...\n",
            "[nltk_data]   Unzipping corpora/stopwords.zip.\n"
          ]
        }
      ]
    },
    {
      "cell_type": "code",
      "source": [
        "nltk.download('punkt')\n",
        "nltk.download('wordnet')"
      ],
      "metadata": {
        "colab": {
          "base_uri": "https://localhost:8080/"
        },
        "id": "VZs2ZAbweU9W",
        "outputId": "df46abff-e97e-4d03-b670-4870834e7012"
      },
      "execution_count": 15,
      "outputs": [
        {
          "output_type": "stream",
          "name": "stderr",
          "text": [
            "[nltk_data] Downloading package punkt to /root/nltk_data...\n",
            "[nltk_data]   Unzipping tokenizers/punkt.zip.\n",
            "[nltk_data] Downloading package wordnet to /root/nltk_data...\n"
          ]
        },
        {
          "output_type": "execute_result",
          "data": {
            "text/plain": [
              "True"
            ]
          },
          "metadata": {},
          "execution_count": 15
        }
      ]
    },
    {
      "cell_type": "code",
      "source": [
        "import re\n",
        "import string\n",
        "from nltk.tokenize import word_tokenize\n",
        "from nltk.corpus import stopwords\n",
        "from nltk.stem import WordNetLemmatizer\n",
        "\n",
        "urlPattern = r\"((http://)[^ ]*|(https://)[^ ]*|( www\\.)[^ ]*)\"\n",
        "userPattern = '@[^\\s]+'\n",
        "\n",
        "stopword = set(stopwords.words('english'))\n",
        "\n",
        "def process_tweets(tweet):\n",
        "    if isinstance(tweet, str):\n",
        "        # Lowercasing\n",
        "        tweet = tweet.lower()\n",
        "        tweet = tweet[1:]\n",
        "        # Removing URLs\n",
        "        tweet = re.sub(urlPattern, '', tweet)\n",
        "        # Removing @usernames\n",
        "        tweet = re.sub(userPattern, '', tweet)\n",
        "        # Remove punctuations\n",
        "        tweet = tweet.translate(str.maketrans(\"\", \"\", string.punctuation))\n",
        "        # Tokenizing words\n",
        "        tokens = word_tokenize(tweet)\n",
        "        # Removing stop words\n",
        "        final_tokens = [w for w in tokens if w not in stopword]\n",
        "        # Reducing a word to its word stem\n",
        "        wordLemm = WordNetLemmatizer()\n",
        "        finalwords = [wordLemm.lemmatize(w) for w in final_tokens if len(w) > 1]\n",
        "\n",
        "        return ' '.join(finalwords)\n",
        "    else:\n",
        "        return ''  # or any other default value for non-string values\n",
        "\n",
        "df['processed_tweets'] = df['self_text'].apply(lambda x: process_tweets(x))\n",
        "print('Text Preprocessing complete.')\n",
        "\n",
        "df.head(10)\n"
      ],
      "metadata": {
        "id": "ZQOyOXOZcuSg",
        "colab": {
          "base_uri": "https://localhost:8080/",
          "height": 718
        },
        "outputId": "20ac5d6a-4752-4bb7-d063-551fa79da123"
      },
      "execution_count": 16,
      "outputs": [
        {
          "output_type": "stream",
          "name": "stdout",
          "text": [
            "Text Preprocessing complete.\n"
          ]
        },
        {
          "output_type": "execute_result",
          "data": {
            "text/plain": [
              "                                           self_text  polarity  \\\n",
              "0  Exactly! I can remember the humanitarian aid s...         1   \n",
              "1  *We are the only part of the World that has Fr...         1   \n",
              "2  I don_x0019_t make Israeli strategy, nor am I ...         1   \n",
              "3  These people didn't vote Hamas in or something...         0   \n",
              "4  We don't care what you do. We just want to liv...         0   \n",
              "5  Hamas exists because of the Israeli control of...         1   \n",
              "6  I'll forward it when I have time to find it.  ...         1   \n",
              "7  You can inverte the flags and its gonna still ...         0   \n",
              "8  I wish the media would talk more about the par...         0   \n",
              "9  They are blinded by social media fake news. Th...         0   \n",
              "\n",
              "                                    processed_tweets  \n",
              "0  xactly remember humanitarian aid streaming ste...  \n",
              "1  part world freedom speech person exercise free...  \n",
              "2  donx0019t make israeli strategy israeli jewish...  \n",
              "3  hese people didnt vote hamas something cant ex...  \n",
              "4  dont care want live world literally impossible...  \n",
              "5  amas exists israeli control area itx0019s occu...  \n",
              "6  forward time find interview saw weekend believ...  \n",
              "7  ou inverte flag gon na still right stop think ...  \n",
              "8  wish medium would talk particular abuse afflic...  \n",
              "9  hey blinded social medium fake news changed si...  "
            ],
            "text/html": [
              "\n",
              "  <div id=\"df-fd82e908-d5b8-44ec-93e8-37e84e8314f3\" class=\"colab-df-container\">\n",
              "    <div>\n",
              "<style scoped>\n",
              "    .dataframe tbody tr th:only-of-type {\n",
              "        vertical-align: middle;\n",
              "    }\n",
              "\n",
              "    .dataframe tbody tr th {\n",
              "        vertical-align: top;\n",
              "    }\n",
              "\n",
              "    .dataframe thead th {\n",
              "        text-align: right;\n",
              "    }\n",
              "</style>\n",
              "<table border=\"1\" class=\"dataframe\">\n",
              "  <thead>\n",
              "    <tr style=\"text-align: right;\">\n",
              "      <th></th>\n",
              "      <th>self_text</th>\n",
              "      <th>polarity</th>\n",
              "      <th>processed_tweets</th>\n",
              "    </tr>\n",
              "  </thead>\n",
              "  <tbody>\n",
              "    <tr>\n",
              "      <th>0</th>\n",
              "      <td>Exactly! I can remember the humanitarian aid s...</td>\n",
              "      <td>1</td>\n",
              "      <td>xactly remember humanitarian aid streaming ste...</td>\n",
              "    </tr>\n",
              "    <tr>\n",
              "      <th>1</th>\n",
              "      <td>*We are the only part of the World that has Fr...</td>\n",
              "      <td>1</td>\n",
              "      <td>part world freedom speech person exercise free...</td>\n",
              "    </tr>\n",
              "    <tr>\n",
              "      <th>2</th>\n",
              "      <td>I don_x0019_t make Israeli strategy, nor am I ...</td>\n",
              "      <td>1</td>\n",
              "      <td>donx0019t make israeli strategy israeli jewish...</td>\n",
              "    </tr>\n",
              "    <tr>\n",
              "      <th>3</th>\n",
              "      <td>These people didn't vote Hamas in or something...</td>\n",
              "      <td>0</td>\n",
              "      <td>hese people didnt vote hamas something cant ex...</td>\n",
              "    </tr>\n",
              "    <tr>\n",
              "      <th>4</th>\n",
              "      <td>We don't care what you do. We just want to liv...</td>\n",
              "      <td>0</td>\n",
              "      <td>dont care want live world literally impossible...</td>\n",
              "    </tr>\n",
              "    <tr>\n",
              "      <th>5</th>\n",
              "      <td>Hamas exists because of the Israeli control of...</td>\n",
              "      <td>1</td>\n",
              "      <td>amas exists israeli control area itx0019s occu...</td>\n",
              "    </tr>\n",
              "    <tr>\n",
              "      <th>6</th>\n",
              "      <td>I'll forward it when I have time to find it.  ...</td>\n",
              "      <td>1</td>\n",
              "      <td>forward time find interview saw weekend believ...</td>\n",
              "    </tr>\n",
              "    <tr>\n",
              "      <th>7</th>\n",
              "      <td>You can inverte the flags and its gonna still ...</td>\n",
              "      <td>0</td>\n",
              "      <td>ou inverte flag gon na still right stop think ...</td>\n",
              "    </tr>\n",
              "    <tr>\n",
              "      <th>8</th>\n",
              "      <td>I wish the media would talk more about the par...</td>\n",
              "      <td>0</td>\n",
              "      <td>wish medium would talk particular abuse afflic...</td>\n",
              "    </tr>\n",
              "    <tr>\n",
              "      <th>9</th>\n",
              "      <td>They are blinded by social media fake news. Th...</td>\n",
              "      <td>0</td>\n",
              "      <td>hey blinded social medium fake news changed si...</td>\n",
              "    </tr>\n",
              "  </tbody>\n",
              "</table>\n",
              "</div>\n",
              "    <div class=\"colab-df-buttons\">\n",
              "\n",
              "  <div class=\"colab-df-container\">\n",
              "    <button class=\"colab-df-convert\" onclick=\"convertToInteractive('df-fd82e908-d5b8-44ec-93e8-37e84e8314f3')\"\n",
              "            title=\"Convert this dataframe to an interactive table.\"\n",
              "            style=\"display:none;\">\n",
              "\n",
              "  <svg xmlns=\"http://www.w3.org/2000/svg\" height=\"24px\" viewBox=\"0 -960 960 960\">\n",
              "    <path d=\"M120-120v-720h720v720H120Zm60-500h600v-160H180v160Zm220 220h160v-160H400v160Zm0 220h160v-160H400v160ZM180-400h160v-160H180v160Zm440 0h160v-160H620v160ZM180-180h160v-160H180v160Zm440 0h160v-160H620v160Z\"/>\n",
              "  </svg>\n",
              "    </button>\n",
              "\n",
              "  <style>\n",
              "    .colab-df-container {\n",
              "      display:flex;\n",
              "      gap: 12px;\n",
              "    }\n",
              "\n",
              "    .colab-df-convert {\n",
              "      background-color: #E8F0FE;\n",
              "      border: none;\n",
              "      border-radius: 50%;\n",
              "      cursor: pointer;\n",
              "      display: none;\n",
              "      fill: #1967D2;\n",
              "      height: 32px;\n",
              "      padding: 0 0 0 0;\n",
              "      width: 32px;\n",
              "    }\n",
              "\n",
              "    .colab-df-convert:hover {\n",
              "      background-color: #E2EBFA;\n",
              "      box-shadow: 0px 1px 2px rgba(60, 64, 67, 0.3), 0px 1px 3px 1px rgba(60, 64, 67, 0.15);\n",
              "      fill: #174EA6;\n",
              "    }\n",
              "\n",
              "    .colab-df-buttons div {\n",
              "      margin-bottom: 4px;\n",
              "    }\n",
              "\n",
              "    [theme=dark] .colab-df-convert {\n",
              "      background-color: #3B4455;\n",
              "      fill: #D2E3FC;\n",
              "    }\n",
              "\n",
              "    [theme=dark] .colab-df-convert:hover {\n",
              "      background-color: #434B5C;\n",
              "      box-shadow: 0px 1px 3px 1px rgba(0, 0, 0, 0.15);\n",
              "      filter: drop-shadow(0px 1px 2px rgba(0, 0, 0, 0.3));\n",
              "      fill: #FFFFFF;\n",
              "    }\n",
              "  </style>\n",
              "\n",
              "    <script>\n",
              "      const buttonEl =\n",
              "        document.querySelector('#df-fd82e908-d5b8-44ec-93e8-37e84e8314f3 button.colab-df-convert');\n",
              "      buttonEl.style.display =\n",
              "        google.colab.kernel.accessAllowed ? 'block' : 'none';\n",
              "\n",
              "      async function convertToInteractive(key) {\n",
              "        const element = document.querySelector('#df-fd82e908-d5b8-44ec-93e8-37e84e8314f3');\n",
              "        const dataTable =\n",
              "          await google.colab.kernel.invokeFunction('convertToInteractive',\n",
              "                                                    [key], {});\n",
              "        if (!dataTable) return;\n",
              "\n",
              "        const docLinkHtml = 'Like what you see? Visit the ' +\n",
              "          '<a target=\"_blank\" href=https://colab.research.google.com/notebooks/data_table.ipynb>data table notebook</a>'\n",
              "          + ' to learn more about interactive tables.';\n",
              "        element.innerHTML = '';\n",
              "        dataTable['output_type'] = 'display_data';\n",
              "        await google.colab.output.renderOutput(dataTable, element);\n",
              "        const docLink = document.createElement('div');\n",
              "        docLink.innerHTML = docLinkHtml;\n",
              "        element.appendChild(docLink);\n",
              "      }\n",
              "    </script>\n",
              "  </div>\n",
              "\n",
              "\n",
              "<div id=\"df-800f8198-1bd2-4622-876a-0c02780ec8ab\">\n",
              "  <button class=\"colab-df-quickchart\" onclick=\"quickchart('df-800f8198-1bd2-4622-876a-0c02780ec8ab')\"\n",
              "            title=\"Suggest charts\"\n",
              "            style=\"display:none;\">\n",
              "\n",
              "<svg xmlns=\"http://www.w3.org/2000/svg\" height=\"24px\"viewBox=\"0 0 24 24\"\n",
              "     width=\"24px\">\n",
              "    <g>\n",
              "        <path d=\"M19 3H5c-1.1 0-2 .9-2 2v14c0 1.1.9 2 2 2h14c1.1 0 2-.9 2-2V5c0-1.1-.9-2-2-2zM9 17H7v-7h2v7zm4 0h-2V7h2v10zm4 0h-2v-4h2v4z\"/>\n",
              "    </g>\n",
              "</svg>\n",
              "  </button>\n",
              "\n",
              "<style>\n",
              "  .colab-df-quickchart {\n",
              "      --bg-color: #E8F0FE;\n",
              "      --fill-color: #1967D2;\n",
              "      --hover-bg-color: #E2EBFA;\n",
              "      --hover-fill-color: #174EA6;\n",
              "      --disabled-fill-color: #AAA;\n",
              "      --disabled-bg-color: #DDD;\n",
              "  }\n",
              "\n",
              "  [theme=dark] .colab-df-quickchart {\n",
              "      --bg-color: #3B4455;\n",
              "      --fill-color: #D2E3FC;\n",
              "      --hover-bg-color: #434B5C;\n",
              "      --hover-fill-color: #FFFFFF;\n",
              "      --disabled-bg-color: #3B4455;\n",
              "      --disabled-fill-color: #666;\n",
              "  }\n",
              "\n",
              "  .colab-df-quickchart {\n",
              "    background-color: var(--bg-color);\n",
              "    border: none;\n",
              "    border-radius: 50%;\n",
              "    cursor: pointer;\n",
              "    display: none;\n",
              "    fill: var(--fill-color);\n",
              "    height: 32px;\n",
              "    padding: 0;\n",
              "    width: 32px;\n",
              "  }\n",
              "\n",
              "  .colab-df-quickchart:hover {\n",
              "    background-color: var(--hover-bg-color);\n",
              "    box-shadow: 0 1px 2px rgba(60, 64, 67, 0.3), 0 1px 3px 1px rgba(60, 64, 67, 0.15);\n",
              "    fill: var(--button-hover-fill-color);\n",
              "  }\n",
              "\n",
              "  .colab-df-quickchart-complete:disabled,\n",
              "  .colab-df-quickchart-complete:disabled:hover {\n",
              "    background-color: var(--disabled-bg-color);\n",
              "    fill: var(--disabled-fill-color);\n",
              "    box-shadow: none;\n",
              "  }\n",
              "\n",
              "  .colab-df-spinner {\n",
              "    border: 2px solid var(--fill-color);\n",
              "    border-color: transparent;\n",
              "    border-bottom-color: var(--fill-color);\n",
              "    animation:\n",
              "      spin 1s steps(1) infinite;\n",
              "  }\n",
              "\n",
              "  @keyframes spin {\n",
              "    0% {\n",
              "      border-color: transparent;\n",
              "      border-bottom-color: var(--fill-color);\n",
              "      border-left-color: var(--fill-color);\n",
              "    }\n",
              "    20% {\n",
              "      border-color: transparent;\n",
              "      border-left-color: var(--fill-color);\n",
              "      border-top-color: var(--fill-color);\n",
              "    }\n",
              "    30% {\n",
              "      border-color: transparent;\n",
              "      border-left-color: var(--fill-color);\n",
              "      border-top-color: var(--fill-color);\n",
              "      border-right-color: var(--fill-color);\n",
              "    }\n",
              "    40% {\n",
              "      border-color: transparent;\n",
              "      border-right-color: var(--fill-color);\n",
              "      border-top-color: var(--fill-color);\n",
              "    }\n",
              "    60% {\n",
              "      border-color: transparent;\n",
              "      border-right-color: var(--fill-color);\n",
              "    }\n",
              "    80% {\n",
              "      border-color: transparent;\n",
              "      border-right-color: var(--fill-color);\n",
              "      border-bottom-color: var(--fill-color);\n",
              "    }\n",
              "    90% {\n",
              "      border-color: transparent;\n",
              "      border-bottom-color: var(--fill-color);\n",
              "    }\n",
              "  }\n",
              "</style>\n",
              "\n",
              "  <script>\n",
              "    async function quickchart(key) {\n",
              "      const quickchartButtonEl =\n",
              "        document.querySelector('#' + key + ' button');\n",
              "      quickchartButtonEl.disabled = true;  // To prevent multiple clicks.\n",
              "      quickchartButtonEl.classList.add('colab-df-spinner');\n",
              "      try {\n",
              "        const charts = await google.colab.kernel.invokeFunction(\n",
              "            'suggestCharts', [key], {});\n",
              "      } catch (error) {\n",
              "        console.error('Error during call to suggestCharts:', error);\n",
              "      }\n",
              "      quickchartButtonEl.classList.remove('colab-df-spinner');\n",
              "      quickchartButtonEl.classList.add('colab-df-quickchart-complete');\n",
              "    }\n",
              "    (() => {\n",
              "      let quickchartButtonEl =\n",
              "        document.querySelector('#df-800f8198-1bd2-4622-876a-0c02780ec8ab button');\n",
              "      quickchartButtonEl.style.display =\n",
              "        google.colab.kernel.accessAllowed ? 'block' : 'none';\n",
              "    })();\n",
              "  </script>\n",
              "</div>\n",
              "    </div>\n",
              "  </div>\n"
            ]
          },
          "metadata": {},
          "execution_count": 16
        }
      ]
    },
    {
      "cell_type": "code",
      "source": [
        "from sklearn.feature_extraction.text import TfidfVectorizer\n",
        "\n",
        "X = df['processed_tweets'].values\n",
        "y = df['polarity'].values\n",
        "print(X.shape)\n",
        "print(y.shape)\n",
        "\n",
        "vector = TfidfVectorizer(sublinear_tf=True)\n",
        "X = vector.fit_transform(X)\n",
        "print(f'Vector fitted.')\n",
        "\n",
        "print(X.shape)\n",
        "print(y.shape)"
      ],
      "metadata": {
        "colab": {
          "base_uri": "https://localhost:8080/"
        },
        "id": "X1bhzdW1cuPX",
        "outputId": "865b36d4-659f-4eec-f825-4152df16891b"
      },
      "execution_count": 17,
      "outputs": [
        {
          "output_type": "stream",
          "name": "stdout",
          "text": [
            "(190396,)\n",
            "(190396,)\n",
            "Vector fitted.\n",
            "(190396, 90155)\n",
            "(190396,)\n"
          ]
        }
      ]
    },
    {
      "cell_type": "code",
      "source": [
        "from keras.preprocessing.text import Tokenizer\n",
        "from keras.utils import pad_sequences\n",
        "from keras import regularizers\n",
        "\n",
        "max_words = 5000\n",
        "max_len = 100\n",
        "\n",
        "tokenizer = Tokenizer(num_words=max_words)\n",
        "tokenizer.fit_on_texts(df.processed_tweets)\n",
        "sequences = tokenizer.texts_to_sequences(df.processed_tweets)\n",
        "tweets = pad_sequences(sequences, maxlen=max_len)\n",
        "print(tweets)"
      ],
      "metadata": {
        "colab": {
          "base_uri": "https://localhost:8080/"
        },
        "id": "-5cyV63UcuNe",
        "outputId": "4f0b1f99-003d-41d0-871a-1aa080d81bac"
      },
      "execution_count": 18,
      "outputs": [
        {
          "output_type": "stream",
          "name": "stdout",
          "text": [
            "[[   0    0    0 ...  260   46  863]\n",
            " [   0    0    0 ... 1168    5 1004]\n",
            " [   0    0    0 ... 4525  309   22]\n",
            " ...\n",
            " [   0    0    0 ...  224  929   26]\n",
            " [   0    0    0 ...   28 4981  104]\n",
            " [ 490 1307   32 ...   23  617 4018]]\n"
          ]
        }
      ]
    },
    {
      "cell_type": "code",
      "source": [
        "X_train, X_test, y_train, y_test = train_test_split(tweets, df.polarity.values, test_size = 0.2, random_state=42)\n",
        "print(\"X_train\", X_train.shape)\n",
        "print(\"y_train\", y_train.shape)\n",
        "print()\n",
        "print(\"X_test\", X_test.shape)\n",
        "print(\"y_test\", y_test.shape)"
      ],
      "metadata": {
        "id": "qIvC0u6FcuKQ",
        "colab": {
          "base_uri": "https://localhost:8080/"
        },
        "outputId": "065cd47d-151d-4bab-d56e-e8613b2b7366"
      },
      "execution_count": 19,
      "outputs": [
        {
          "output_type": "stream",
          "name": "stdout",
          "text": [
            "X_train (152316, 100)\n",
            "y_train (152316,)\n",
            "\n",
            "X_test (38080, 100)\n",
            "y_test (38080,)\n"
          ]
        }
      ]
    },
    {
      "cell_type": "code",
      "source": [
        "from keras.models import Sequential\n",
        "from keras import layers\n",
        "from keras import regularizers\n",
        "from keras import backend as K\n",
        "from keras.callbacks import ModelCheckpoint\n",
        "model = Sequential()\n",
        "model.add(layers.Embedding(max_words, 128))\n",
        "model.add(layers.LSTM(64,dropout=0.5))\n",
        "model.add(layers.Dense(16, activation='relu'))\n",
        "model.add(layers.Dense(8, activation='relu'))\n",
        "model.add(layers.Dense(1,activation='sigmoid'))\n",
        "model.compile(optimizer='adam',loss='binary_crossentropy', metrics=['accuracy'])\n",
        "\n",
        "model.summary()\n",
        "\n",
        "history=model.fit(X_train,y_train,epochs=14,batch_size= 64,validation_data=(X_test, y_test), callbacks=[EarlyStopping(monitor='val_loss',min_delta=0.0001)])"
      ],
      "metadata": {
        "id": "mRhEjD2lcuIY",
        "colab": {
          "base_uri": "https://localhost:8080/"
        },
        "outputId": "156070ae-80a8-4271-803b-cadc1e7064a3"
      },
      "execution_count": 20,
      "outputs": [
        {
          "output_type": "stream",
          "name": "stdout",
          "text": [
            "Model: \"sequential\"\n",
            "_________________________________________________________________\n",
            " Layer (type)                Output Shape              Param #   \n",
            "=================================================================\n",
            " embedding (Embedding)       (None, None, 128)         640000    \n",
            "                                                                 \n",
            " lstm (LSTM)                 (None, 64)                49408     \n",
            "                                                                 \n",
            " dense (Dense)               (None, 16)                1040      \n",
            "                                                                 \n",
            " dense_1 (Dense)             (None, 8)                 136       \n",
            "                                                                 \n",
            " dense_2 (Dense)             (None, 1)                 9         \n",
            "                                                                 \n",
            "=================================================================\n",
            "Total params: 690593 (2.63 MB)\n",
            "Trainable params: 690593 (2.63 MB)\n",
            "Non-trainable params: 0 (0.00 Byte)\n",
            "_________________________________________________________________\n",
            "Epoch 1/14\n",
            "2380/2380 [==============================] - 81s 30ms/step - loss: 0.3676 - accuracy: 0.8459 - val_loss: 0.3095 - val_accuracy: 0.8818\n",
            "Epoch 2/14\n",
            "2380/2380 [==============================] - 30s 13ms/step - loss: 0.2813 - accuracy: 0.8917 - val_loss: 0.2802 - val_accuracy: 0.8946\n",
            "Epoch 3/14\n",
            "2380/2380 [==============================] - 25s 11ms/step - loss: 0.2583 - accuracy: 0.9027 - val_loss: 0.2795 - val_accuracy: 0.8954\n",
            "Epoch 4/14\n",
            "2380/2380 [==============================] - 26s 11ms/step - loss: 0.2441 - accuracy: 0.9078 - val_loss: 0.2756 - val_accuracy: 0.8978\n",
            "Epoch 5/14\n",
            "2380/2380 [==============================] - 27s 11ms/step - loss: 0.2319 - accuracy: 0.9119 - val_loss: 0.2810 - val_accuracy: 0.8971\n"
          ]
        }
      ]
    },
    {
      "cell_type": "code",
      "source": [
        "res = model.evaluate(X_test,y_test)\n",
        "print('Test set\\n  Loss: {:0.3f}\\n  Accuracy: {:0.3f}'.format(res[0],res[1]))"
      ],
      "metadata": {
        "id": "zJOWyrqUcuD4",
        "colab": {
          "base_uri": "https://localhost:8080/"
        },
        "outputId": "b2c8a1a1-46de-43be-b210-98964697af3b"
      },
      "execution_count": 21,
      "outputs": [
        {
          "output_type": "stream",
          "name": "stdout",
          "text": [
            "1190/1190 [==============================] - 6s 5ms/step - loss: 0.2810 - accuracy: 0.8971\n",
            "Test set\n",
            "  Loss: 0.281\n",
            "  Accuracy: 0.897\n"
          ]
        }
      ]
    },
    {
      "cell_type": "code",
      "source": [
        "from sklearn.metrics import confusion_matrix, classification_report, accuracy_score\n",
        "\n",
        "# Make predictions on the test set\n",
        "y_pred_prob = model.predict(X_test)\n",
        "y_pred = (y_pred_prob > 0.25).astype(int)\n",
        "\n",
        "# Handle one-dimensional arrays\n",
        "if len(y_test.shape) > 1:\n",
        "    y_test_int = np.argmax(y_test, axis=1)\n",
        "else:\n",
        "    y_test_int = y_test\n",
        "\n",
        "conf_matrix = confusion_matrix(y_test_int, y_pred)\n",
        "\n",
        "print(\"\\nConfusion Matrix:\")\n",
        "print(conf_matrix)\n",
        "\n",
        "accuracy = accuracy_score(y_test_int, y_pred)\n",
        "print(\"\\nAccuracy:\", accuracy)\n",
        "\n",
        "class_report = classification_report(y_test_int, y_pred)\n",
        "print(\"\\nClassification Report:\")\n",
        "print(class_report)\n"
      ],
      "metadata": {
        "id": "teesBLt0ct8z",
        "colab": {
          "base_uri": "https://localhost:8080/"
        },
        "outputId": "731f619e-a724-400c-9cff-7ed413581edb"
      },
      "execution_count": 22,
      "outputs": [
        {
          "output_type": "stream",
          "name": "stdout",
          "text": [
            "1190/1190 [==============================] - 5s 3ms/step\n",
            "\n",
            "Confusion Matrix:\n",
            "[[23546  2833]\n",
            " [ 1612 10089]]\n",
            "\n",
            "Accuracy: 0.8832720588235294\n",
            "\n",
            "Classification Report:\n",
            "              precision    recall  f1-score   support\n",
            "\n",
            "           0       0.94      0.89      0.91     26379\n",
            "           1       0.78      0.86      0.82     11701\n",
            "\n",
            "    accuracy                           0.88     38080\n",
            "   macro avg       0.86      0.88      0.87     38080\n",
            "weighted avg       0.89      0.88      0.88     38080\n",
            "\n"
          ]
        }
      ]
    },
    {
      "cell_type": "code",
      "source": [
        "import matplotlib.pyplot as plt\n",
        "import seaborn as sns\n",
        "\n",
        "fig = plt.figure(figsize=(8,3))\n",
        "plt.plot(history.history['accuracy'], label='Training Accuracy')\n",
        "plt.plot(history.history['val_accuracy'], label='Validation Accuracy')\n",
        "plt.title('Model Training and Validation Accuracy')\n",
        "plt.xlabel('Epoch')\n",
        "plt.ylabel('Accuracy')\n",
        "plt.legend(loc='right')\n",
        "plt.show()\n",
        "\n",
        "fig = plt.figure(figsize=(8,3))\n",
        "plt.plot(history.history['loss'], label='Training loss')\n",
        "plt.plot(history.history['val_loss'], label='Validation loss')\n",
        "plt.title('Model Training and Validation loss')\n",
        "plt.xlabel('Epoch')\n",
        "plt.ylabel('loss')\n",
        "plt.legend(loc='upper right')\n",
        "plt.show()"
      ],
      "metadata": {
        "id": "UndrCefjct1J",
        "colab": {
          "base_uri": "https://localhost:8080/",
          "height": 649
        },
        "outputId": "d0668651-7cac-4c92-9181-b253f600284e"
      },
      "execution_count": 23,
      "outputs": [
        {
          "output_type": "display_data",
          "data": {
            "text/plain": [
              "<Figure size 800x300 with 1 Axes>"
            ],
            "image/png": "[encoded data removed]"
          },
          "metadata": {}
        },
        {
          "output_type": "display_data",
          "data": {
            "text/plain": [
              "<Figure size 800x300 with 1 Axes>"
            ],
            "image/png": "[encoded data removed]"
          },
          "metadata": {}
        }
      ]
    },
    {
      "cell_type": "code",
      "source": [
        "from keras.models import load_model\n",
        "import numpy as np\n",
        "\n",
        "custom_tweet = \"xactly remember humanitarian aid streaming stepanekert week ago like streamed mariupol last year raqqa mosul year ago even let delve history moment humanitarian aid streamed stalingrad leningrad back ww2\" #1\n",
        "\n",
        "# Preprocess the custom tweet using the same tokenizer\n",
        "custom_sequence = tokenizer.texts_to_sequences([custom_tweet])\n",
        "custom_padded_sequence = pad_sequences(custom_sequence, maxlen=max_len)\n",
        "\n",
        "prediction = model.predict(np.array(custom_padded_sequence))\n",
        "\n",
        "# Model predicts binary sentiment (0 for negative, 1 for positive)\n",
        "sentiment = \"Positive\" if prediction[0][0] > 0.25 else \"Negative\"\n",
        "\n",
        "print(f\"Custom Tweet: {custom_tweet}\")\n",
        "print(f\"Predicted Sentiment: {sentiment} (Probability: {prediction[0][0]})\")\n"
      ],
      "metadata": {
        "id": "tBEaOL13cthW",
        "colab": {
          "base_uri": "https://localhost:8080/"
        },
        "outputId": "ff335a63-6513-4c5d-f31e-ceafd37fb10b"
      },
      "execution_count": 24,
      "outputs": [
        {
          "output_type": "stream",
          "name": "stdout",
          "text": [
            "1/1 [==============================] - 1s 601ms/step\n",
            "Custom Tweet: xactly remember humanitarian aid streaming stepanekert week ago like streamed mariupol last year raqqa mosul year ago even let delve history moment humanitarian aid streamed stalingrad leningrad back ww2\n",
            "Predicted Sentiment: Positive (Probability: 0.9349328279495239)\n"
          ]
        }
      ]
    },
    {
      "cell_type": "code",
      "source": [
        "from keras.models import load_model\n",
        "import numpy as np\n",
        "\n",
        "custom_tweet = \"ou inverte flag gon na still right stop think since part disgusting thing past start fking think future possibile compromise care people obviusly otherwise keep pushing one side propaganda sure another guy another subreddit pushing side one\" #0\n",
        "# Preprocess the custom tweet using the same tokenizer\n",
        "custom_sequence = tokenizer.texts_to_sequences([custom_tweet])\n",
        "custom_padded_sequence = pad_sequences(custom_sequence, maxlen=max_len)\n",
        "\n",
        "prediction = model.predict(np.array(custom_padded_sequence))\n",
        "\n",
        "# Model predicts binary sentiment (0 for negative, 1 for positive)\n",
        "sentiment = \"Positive\" if prediction[0][0] > 0.25 else \"Negative\"\n",
        "\n",
        "print(f\"Custom Tweet: {custom_tweet}\")\n",
        "print(f\"Predicted Sentiment: {sentiment} (Probability: {prediction[0][0]})\")\n"
      ],
      "metadata": {
        "colab": {
          "base_uri": "https://localhost:8080/"
        },
        "outputId": "f6b20e96-0630-4603-beee-9451123275a3",
        "id": "Lgx-STou4xq9"
      },
      "execution_count": 25,
      "outputs": [
        {
          "output_type": "stream",
          "name": "stdout",
          "text": [
            "1/1 [==============================] - 0s 22ms/step\n",
            "Custom Tweet: ou inverte flag gon na still right stop think since part disgusting thing past start fking think future possibile compromise care people obviusly otherwise keep pushing one side propaganda sure another guy another subreddit pushing side one\n",
            "Predicted Sentiment: Negative (Probability: 0.015379277989268303)\n"
          ]
        }
      ]
    },
    {
      "cell_type": "code",
      "source": [],
      "metadata": {
        "id": "YU0DBD-w455e"
      },
      "execution_count": null,
      "outputs": []
    }
  ]
}